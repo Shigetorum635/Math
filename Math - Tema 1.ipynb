{
 "cells": [
  {
   "cell_type": "markdown",
   "id": "7b5d618a",
   "metadata": {},
   "source": [
    "# Cuaderno Matematicas\n",
    "Un cuaderno de matematicas escrito con Jupyter Notebooks. \n",
    "En este cuaderno encontraras formulas escrita en lenguaje matematico y **Ruby**."
   ]
  },
  {
   "cell_type": "markdown",
   "id": "b142577a",
   "metadata": {},
   "source": [
    "A continuacion declarare unas `funciones` (funcionan como macros, o acciones repetidas) para facilitar la disposicion de resultados."
   ]
  },
  {
   "cell_type": "code",
   "execution_count": 27,
   "id": "1edf5fd6",
   "metadata": {},
   "outputs": [
    {
     "data": {
      "text/plain": [
       ":numeroGrande"
      ]
     },
     "execution_count": 27,
     "metadata": {},
     "output_type": "execute_result"
    }
   ],
   "source": [
    "require \"bigdecimal\"\n",
    "\n",
    "def display(info)  \n",
    "  IRuby.display \"#{info}\", mime: 'text/html'\n",
    "end\n",
    "\n",
    "def numeroGrande(num)\n",
    "  puts (\"%.15f\" % num).sub(/0*$/,\"\")\n",
    "end"
   ]
  },
  {
   "cell_type": "markdown",
   "id": "5a201630",
   "metadata": {},
   "source": [
    "`display` Permite visualizar los resultados correctamente y con mas estilo."
   ]
  },
  {
   "cell_type": "markdown",
   "id": "7c345e10",
   "metadata": {},
   "source": [
    "### [TEMA 1] - Numeros Reales"
   ]
  },
  {
   "cell_type": "markdown",
   "id": "8cce4647",
   "metadata": {},
   "source": [
    "Numeros racionales son aquellos que se pueden **Expresar como fraccion**\n",
    "\n",
    "Ejemplo: $\\frac{a}{b} \\leftarrow$ Numero Racional ($\\mathbb{Q}$)\n",
    "\n",
    "Los Numeros Irracionales ($\\mathbb{I}$) son aquellos que no se pueden expresar como fraccion.\n",
    "\n",
    "Ejemplo: $\\sqrt 2 \\rightarrow 1.41421356237$\n",
    "\n",
    "Su expresion decimal es **ilimitada** y **no periodica**.\n",
    "\n",
    "\n",
    "\n",
    "$$\n",
    "\\fbox{\n",
    "Los Numeros $Reales$ $\\mathbb{R}$, es un grupo que contiene los $Irracionales$ $\\mathbb{I}$ y $Racionales$ $\\mathbb{Q}$ \n",
    "}$$"
   ]
  },
  {
   "cell_type": "markdown",
   "id": "ecccc1a4",
   "metadata": {},
   "source": [
    "#### [Pagina 7] ~ Ejercicio 1\n",
    "Calcula la expresion decimal de esots numeros fraccionarios e indica que tipo de numero es.\n",
    "\n",
    "$a)$ $\\frac{21}{45} \\rightarrow$ $0.46... \\rightarrow$ Entero ($\\mathbb{Z}$)\n",
    "\n",
    "$b)$ $\\frac{52}{13} \\rightarrow$ $4 \\rightarrow$ Natural ($\\mathbb{N}$)"
   ]
  },
  {
   "cell_type": "markdown",
   "id": "20413703",
   "metadata": {},
   "source": [
    "### [Tema 1] - Aproximaciones Y Errores\n",
    "A la hora de aproximar hay diferentes metodos, **por defecto, por exceso y redondeo**.\n",
    "\n",
    "Ejemplo: 2.1739821\n",
    "\n",
    "| Tipo | Por Defecto  | Por Exceso | Redondeo |\n",
    "|--| -- | -- | -- |\n",
    "|Decimas|2.1| 2.2| 2.2 |\n",
    "| Centesimas |2.17|2.18|2.17 |  \n",
    "|Milesimas | 2.173 | 2.174 | 2.174 |\n",
    "|Diezmilesimas | 2.1739| 2.1740 | 2.1740 |\n",
    "\n",
    "### [Tema 1] - Errores\n",
    "Las aproximaciones causan **errores**, los cuales son la diferencia que hay del valor real al valor aproximado. Este sirve para saber la realidad de los datos.\n",
    "\n",
    "Hay dos formulas para calcular el Error, **Formula del Error Absoluto** Y **La Formula ddel Error Relativo**.\n",
    "<br/><br/>\n",
    "<center><strong>Error Absoluto:</strong></center>\n",
    "\n",
    "$$ ErrorAbsoluto = |ValorReal - ValorAproximado| $$\n",
    "\n",
    "<br/><br/>\n",
    "<center><strong>Error Relativo:</strong></center>\n",
    "\n",
    "$$ ErrorRelativo = \\frac{ErrorAbsoluto}{| ValorReal |} $$\n"
   ]
  },
  {
   "cell_type": "markdown",
   "id": "843cbc99",
   "metadata": {},
   "source": [
    "**[Pagina 13] ~ Ejercicio 39**\n",
    "\n",
    "Determina los errores absoluto y relativo cometidos al utilizar estas proximaciones."
   ]
  },
  {
   "cell_type": "markdown",
   "id": "86642405",
   "metadata": {},
   "source": [
    "$a) \\frac{2}{3} \\approx 0.67$\n",
    "\n",
    "Aplicamos la formula del Error Absoluto:\n",
    "\n",
    "$\\frac{2}{3} = 0.66666$\n",
    "\n",
    "$Error Absoluto = |0.66 - 0.67|$"
   ]
  },
  {
   "cell_type": "code",
   "execution_count": 3,
   "id": "c4dbbe35",
   "metadata": {},
   "outputs": [
    {
     "data": {
      "text/html": [
       "El Error Absoluto es: 0.0033333333333334103"
      ],
      "text/plain": [
       "\"El Error Absoluto es: 0.0033333333333334103\""
      ]
     },
     "metadata": {},
     "output_type": "display_data"
    }
   ],
   "source": [
    "preErrorAbsoluto = (2.0/3.0)-0.67\n",
    "errorAbsoluto = preErrorAbsoluto.abs()\n",
    "display \"El Error Absoluto es: #{errorAbsoluto}\""
   ]
  },
  {
   "cell_type": "markdown",
   "id": "7042951f",
   "metadata": {},
   "source": [
    "[NOTA]: La function `abs()` que se puede observar aplica que el numero sea positivo. (Absoluto)"
   ]
  },
  {
   "cell_type": "markdown",
   "id": "6338e186",
   "metadata": {},
   "source": [
    "Aplicamos la formula del Error Relativo."
   ]
  },
  {
   "cell_type": "markdown",
   "id": "0b1239ee",
   "metadata": {},
   "source": [
    "$Error Relativo = \\frac{ErrorAbsoluto}{0.66}$\n",
    "\n",
    "Lo calculamos..."
   ]
  },
  {
   "cell_type": "code",
   "execution_count": 4,
   "id": "964fd378",
   "metadata": {},
   "outputs": [
    {
     "data": {
      "text/html": [
       "El Error Relativo es de 0.5 %"
      ],
      "text/plain": [
       "\"El Error Relativo es de 0.5 %\""
      ]
     },
     "metadata": {},
     "output_type": "display_data"
    }
   ],
   "source": [
    "errorRelativo = errorAbsoluto / (2.0/3.0)\n",
    "errorRelativoPorcentaje = (errorRelativo * 100).truncate(4)\n",
    "display \"El Error Relativo es de #{errorRelativoPorcentaje} %\""
   ]
  },
  {
   "cell_type": "markdown",
   "id": "f36971c2",
   "metadata": {},
   "source": [
    "---"
   ]
  },
  {
   "cell_type": "markdown",
   "id": "d929ce65",
   "metadata": {},
   "source": [
    "<br>\n",
    "<br>\n",
    "\n",
    "### [Tema 1] - Intervalos Y Semirectas\n",
    "Un **Intevalo** es el conjunto de numeros reales comprendidos entre dos de ellos, llamados **extremos** del intervalo.\n"
   ]
  },
  {
   "cell_type": "markdown",
   "id": "4e376dd1",
   "metadata": {},
   "source": [
    "[Pagina 15] ~ Ejercicio 52\n",
    "\n",
    "$a)(-7, -3)$\n",
    "\n",
    "$b)(-\\infty, 8)$\n",
    "\n",
    "$c)(-10, -4)$\n",
    "\n",
    "$d) (\\infty, 1)$\n",
    "\n",
    "------\n",
    "[Pagina 15] ~ Ejercicio 53\n",
    "\n",
    "$a) \\{x \\in \\mathbb{R} \\div -4 \\leq x < 2\\}$\n",
    "\n",
    "$b) \\{x \\in \\mathbb{R} \\div x \\geq 9 \\} $\n",
    "\n",
    "$c) \\{x \\in \\mathbb{R} \\div x < -5 \\} $\n",
    "\n",
    "$b) \\{x \\in \\mathbb{R} -1 \\leq x \\leq 1 \\} $"
   ]
  },
  {
   "cell_type": "markdown",
   "id": "8b30788e",
   "metadata": {},
   "source": [
    "## Tema 2 - Potencias Y Logaritmos\n",
    "### [Tema 2] - Potencias de exponente entero. Operaciones\n",
    "Las potencias representan el numero de veces que un numero se multiplica a si mismo.\n",
    "\n",
    "Ejemplos:\n",
    "\n",
    "**Producto de potencias de la misma base o el mismo exponente**\n",
    "\n",
    "A) $A^{\\pm{c}} * A^{\\pm{b}} = A^{c\\pm{b}}$\n",
    "\n",
    "B) $A^c * B^c \\rightarrow (A\\cdot B)^c$\n",
    "\n",
    "\n",
    "**Cociente de potencias de la misma base o el mismo exponente**\n",
    "\n",
    "A) $\\frac{a^{n}}{a^{x}} \\rightarrow a$"
   ]
  },
  {
   "cell_type": "markdown",
   "id": "859d3379",
   "metadata": {},
   "source": [
    "[Pagina 25] - Ejercicio 5\n",
    "\n",
    "Expresa como potencia de base de un numero primo.\n",
    "\n",
    "$A) \\frac{1}{16} = 16 \\rightarrow$\n",
    "\n",
    "$\n",
    "  \\begin{array}{|l}\n",
    "    \\llap{2~~~~} 16 \\\\ \\hline\n",
    "    \\llap{2~~~~} 8  \\\\ \\hline\n",
    "    \\llap{2~~~~} 4  \\\\ \\hline\n",
    "    \\llap{2~~~~} 2  \\\\ \\hline\n",
    "    \\llap{1~~~~} 1   \\\\ \\hline\n",
    "  \\end{array}\n",
    "  $\n",
    "  \n",
    "$Resultado = 2^4 \\rightarrow \\frac{1}{2^4} \\rightarrow 2^{-4}$\n"
   ]
  },
  {
   "cell_type": "markdown",
   "id": "54d9fac8",
   "metadata": {},
   "source": [
    "$B) 0.125 \\rightarrow \\frac{1000}{125}$\n",
    "\n",
    "$$\n",
    "  \\begin{array}{|l}\n",
    "    \\llap{5~~~~} 25 \\\\ \\hline\n",
    "    \\llap{5~~~~} 5  \\\\ \\hline\n",
    "    \\llap{1~~~~} 1  \\\\ \\hline\n",
    "  \\end{array}\n",
    "  $$\n",
    "  \n",
    "  $$\n",
    "  \\begin{array}{|l}\n",
    "    \\llap{2~~~~} 500 \\\\ \\hline\n",
    "    \\llap{2~~~~} 250  \\\\ \\hline\n",
    "    \\llap{2~~~~} 125  \\\\ \\hline\n",
    "    \\llap{2~~~~} 125  \\\\ \\hline\n",
    "    \\llap{5~~~~} 125  \\\\ \\hline\n",
    "    \\llap{5~~~~} 25  \\\\ \\hline\n",
    "    \\llap{5~~~~} 5  \\\\ \\hline\n",
    "    \\llap{1~~~~} 1  \\\\ \\hline\n",
    "  \\end{array}\n",
    "  $$\n",
    "\n",
    "$Resultado = 5^3 \\rightarrow \\frac{2^5 * 5^3}{5^3} \\rightarrow 2^5$\n",
    "\n",
    "Se elimina el $5^3$ porque esta en los dos lados de la fraccion."
   ]
  },
  {
   "cell_type": "markdown",
   "id": "e86a8202",
   "metadata": {},
   "source": [
    "$B) 81 \\rightarrow$\n",
    "\n",
    "$\n",
    "  \\begin{array}{|l}\n",
    "    \\llap{3~~~~} 27 \\\\ \\hline\n",
    "    \\llap{3~~~~} 9  \\\\ \\hline\n",
    "    \\llap{3~~~~} 3  \\\\ \\hline\n",
    "    \\llap{1~~~~} 1  \\\\ \\hline\n",
    "  \\end{array}\n",
    "  $\n",
    "\n",
    "$Resultado = 3^3$\n",
    "\n",
    "\n"
   ]
  },
  {
   "cell_type": "markdown",
   "id": "09f91623",
   "metadata": {},
   "source": [
    "**[Pagina 25] ~ Ejercicio 7**\n",
    "\n",
    "Escribe como potencia de exponente positivo."
   ]
  },
  {
   "cell_type": "markdown",
   "id": "0e238e82",
   "metadata": {},
   "source": [
    "$A) \\frac{2}{5}^{-3} \\cdot \\frac{2}{5}^{5} \\div \\frac{2}{5}^{-4} \\downarrow$\n",
    "\n",
    "$\\frac{2}{5}^{-3+5} \\rightarrow \\frac{2}{5}^{2} \\div \\frac{2}{5}^{-4} \\rightarrow \\frac{2}{5}^{2-(-4)} \\rightarrow \\frac{2}{5}^{2+4} \\rightarrow \\frac{2}{5}^{6}$\n",
    "\n"
   ]
  },
  {
   "cell_type": "markdown",
   "id": "f2d8d4c5",
   "metadata": {},
   "source": [
    "$B) (3^2)^5 \\div 3^8 \\cdot (\\frac{1}{2})^5 \\div (\\frac{1}{2})^7$\n",
    "\n",
    "Para resolver esto, tenemos primero que resolver cada una de las potencias por separado. (Eg: $(3^2)^5$ etc.. )\n",
    "\n",
    "$(3^2)^5 = 3^{2 \\cdot 5} \\rightarrow 3^{10} \\div 3^8 \\rightarrow 3^{10-8} \\rightarrow 3^2$\n",
    "\n",
    "$(\\frac{1}{2}^{5-7}) \\rightarrow \\frac{1}{2^2}$ | En este caso, como $1^{-2} = 1$ no hace falta añdirlo.\n",
    "\n",
    "$3^2 * \\frac{1}{2^{-2}}$"
   ]
  },
  {
   "cell_type": "markdown",
   "id": "c587499d",
   "metadata": {},
   "source": [
    "### [Tema 2] - Notacion Cientifica\n",
    "La notacion cientifica es una forma de expresar **numeros muy grandes** y **muy pequeños** con facilidad. \n",
    "\n",
    "Ejemplos: "
   ]
  },
  {
   "cell_type": "code",
   "execution_count": 63,
   "id": "35e56ed8",
   "metadata": {},
   "outputs": [
    {
     "name": "stdout",
     "output_type": "stream",
     "text": [
      "0.0000000013\n"
     ]
    }
   ],
   "source": [
    "numeroEjemplo = 1.3*10**(-9) #\n",
    "numeroGrande(numeroEjemplo)"
   ]
  },
  {
   "cell_type": "markdown",
   "id": "0e5263c7",
   "metadata": {},
   "source": [
    "Los calculos de arriba son equivalentes a:\n",
    "\n",
    "$1.3 \\cdot 10^{-9} \\rightarrow 0.0000000013$\n",
    "\n",
    "Porque: $10^{(-9)}$ = `10**(-9)`"
   ]
  },
  {
   "cell_type": "markdown",
   "id": "24a279e0",
   "metadata": {},
   "source": [
    "**[Pagina 27] ~ Ejercicio 13**"
   ]
  },
  {
   "cell_type": "markdown",
   "id": "b1a67721",
   "metadata": {},
   "source": [
    "Expresa en notacion cientifica."
   ]
  },
  {
   "cell_type": "markdown",
   "id": "b8a5c81d",
   "metadata": {},
   "source": [
    "$A) 540000 \\rightarrow 5.4*10^{-4}$\n",
    "\n",
    "$B) 0,0034 \\rightarrow 3.4*10^{3}$\n",
    "\n",
    "$C) -{6720000} \\rightarrow 0.672 * 10^{-7}$\n"
   ]
  },
  {
   "cell_type": "markdown",
   "id": "13d88cbd",
   "metadata": {},
   "source": [
    "Demonstraciones:"
   ]
  },
  {
   "cell_type": "code",
   "execution_count": 49,
   "id": "c3a7c26a",
   "metadata": {},
   "outputs": [
    {
     "name": "stdout",
     "output_type": "stream",
     "text": [
      "5.4\n",
      "3.4\n",
      "-0.672\n"
     ]
    }
   ],
   "source": [
    "a = 54000 * 10 ** -4\n",
    "puts a.to_f\n",
    "\n",
    "b = 0.0034 * 10 ** 3 \n",
    "numeroGrande(b)\n",
    "\n",
    "c = -6720000 * 10 ** -7\n",
    "puts c.to_f\n"
   ]
  },
  {
   "cell_type": "markdown",
   "id": "21f8375f",
   "metadata": {},
   "source": [
    "[Pagina 27] - Ejercicio 22\n"
   ]
  },
  {
   "cell_type": "markdown",
   "id": "4cc689ad",
   "metadata": {},
   "source": [
    "$A) (2.3*10^{-6}) \\div (3*10^{-6}) \\rightarrow 2.3 \\div 3 \\rightarrow 7.6 * 10^{-1}$"
   ]
  },
  {
   "cell_type": "code",
   "execution_count": 62,
   "id": "bb628c13",
   "metadata": {},
   "outputs": [
    {
     "name": "stdout",
     "output_type": "stream",
     "text": [
      "a es igual a; 0.7666666666666666, y su exponente de 10 es 0\n"
     ]
    }
   ],
   "source": [
    "a = (2.3 / 3).to_f\n",
    "a2 = (6-6).to_i\n",
    "\n",
    "puts \"a es igual a; #{a}, y su exponente de 10 es #{a2}\""
   ]
  },
  {
   "cell_type": "markdown",
   "id": "1a15c07b",
   "metadata": {},
   "source": [
    "$B) (4.1*10^{-3})^{2} \\div (2*10^4) \\rightarrow \\frac{4.1}{2} \\cdot \\frac{10^{-6}}{10^4} \\downarrow $"
   ]
  },
  {
   "cell_type": "code",
   "execution_count": 61,
   "id": "346b6f71",
   "metadata": {},
   "outputs": [
    {
     "name": "stdout",
     "output_type": "stream",
     "text": [
      "B es igual a 2.05 y su exponente de 10 es -10\n"
     ]
    }
   ],
   "source": [
    "b = (4.1/2).to_f\n",
    "b2 = (-6-4).to_i\n",
    "\n",
    "puts \"B es igual a #{b} y su exponente de 10 es #{b2}\""
   ]
  },
  {
   "cell_type": "markdown",
   "id": "a3148b5a",
   "metadata": {},
   "source": [
    "$2.05 \\rightarrow 2.05*10^{-10}$"
   ]
  },
  {
   "cell_type": "markdown",
   "id": "1f3219c3",
   "metadata": {},
   "source": [
    "### [Tema 2] - Radicales\n",
    "\n",
    "**Radical** se conoce aquel número que no puede ser simplificado para extraer su raíz cuadrada o cúbica. Por ejemplo, √2, es decir, la raíz cuadrada de 2, vendría a ser 2, puesto no se puede simplificar más.\n",
    "\n",
    "Ejemplos:"
   ]
  },
  {
   "cell_type": "markdown",
   "id": "55218fc1",
   "metadata": {},
   "source": [
    "$\\sqrt 27^{0.33333} \\rightarrow 0.3333 ... = \\frac{1}{3} \\rightarrow 27^{\\frac{1}{3}}$"
   ]
  },
  {
   "cell_type": "code",
   "execution_count": null,
   "id": "eac2e748",
   "metadata": {},
   "outputs": [],
   "source": [
    "[Tema 2]"
   ]
  }
 ],
 "metadata": {
  "kernelspec": {
   "display_name": "Ruby 3.0.3",
   "language": "ruby",
   "name": "ruby"
  },
  "language_info": {
   "file_extension": ".rb",
   "mimetype": "application/x-ruby",
   "name": "ruby",
   "version": "3.0.3"
  }
 },
 "nbformat": 4,
 "nbformat_minor": 5
}
